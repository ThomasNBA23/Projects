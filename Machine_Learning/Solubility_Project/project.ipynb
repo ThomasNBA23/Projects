{
 "cells": [
  {
   "cell_type": "code",
   "execution_count": 2,
   "id": "7ab3ef7c",
   "metadata": {},
   "outputs": [
    {
     "name": "stdout",
     "output_type": "stream",
     "text": [
      "      MolLogP    MolWt  NumRotatableBonds  AromaticProportion   logS\n",
      "0     2.59540  167.850                0.0            0.000000 -2.180\n",
      "1     2.37650  133.405                0.0            0.000000 -2.000\n",
      "2     2.59380  167.850                1.0            0.000000 -1.740\n",
      "3     2.02890  133.405                1.0            0.000000 -1.480\n",
      "4     2.91890  187.375                1.0            0.000000 -3.040\n",
      "...       ...      ...                ...                 ...    ...\n",
      "1139  1.98820  287.343                8.0            0.000000  1.144\n",
      "1140  3.42130  286.114                2.0            0.333333 -4.925\n",
      "1141  3.60960  308.333                4.0            0.695652 -3.893\n",
      "1142  2.56214  354.815                3.0            0.521739 -3.790\n",
      "1143  2.02164  179.219                1.0            0.461538 -2.581\n",
      "\n",
      "[1144 rows x 5 columns]\n"
     ]
    }
   ],
   "source": [
    "#Read the data (no nan values)\n",
    "\n",
    "import pandas as pd\n",
    "\n",
    "data = pd.read_csv(\"data/delaney_solubility_with_descriptors.csv\",sep=';')\n",
    "\n",
    "print(data)"
   ]
  },
  {
   "cell_type": "code",
   "execution_count": 3,
   "id": "a489ea97",
   "metadata": {},
   "outputs": [
    {
     "name": "stdout",
     "output_type": "stream",
     "text": [
      "      MolLogP    MolWt  NumRotatableBonds  AromaticProportion\n",
      "0     2.59540  167.850                0.0            0.000000\n",
      "1     2.37650  133.405                0.0            0.000000\n",
      "2     2.59380  167.850                1.0            0.000000\n",
      "3     2.02890  133.405                1.0            0.000000\n",
      "4     2.91890  187.375                1.0            0.000000\n",
      "...       ...      ...                ...                 ...\n",
      "1139  1.98820  287.343                8.0            0.000000\n",
      "1140  3.42130  286.114                2.0            0.333333\n",
      "1141  3.60960  308.333                4.0            0.695652\n",
      "1142  2.56214  354.815                3.0            0.521739\n",
      "1143  2.02164  179.219                1.0            0.461538\n",
      "\n",
      "[1144 rows x 4 columns]\n",
      "0      -2.180\n",
      "1      -2.000\n",
      "2      -1.740\n",
      "3      -1.480\n",
      "4      -3.040\n",
      "        ...  \n",
      "1139    1.144\n",
      "1140   -4.925\n",
      "1141   -3.893\n",
      "1142   -3.790\n",
      "1143   -2.581\n",
      "Name: logS, Length: 1144, dtype: float64\n"
     ]
    }
   ],
   "source": [
    "#Separate the datas beetween the result and the features \n",
    "\n",
    "y = data[\"logS\"]\n",
    "\n",
    "X = data.drop([\"logS\"],axis=1)\n",
    "\n",
    "print(X)\n",
    "print(y)"
   ]
  },
  {
   "cell_type": "code",
   "execution_count": 4,
   "id": "15c5e3bc",
   "metadata": {},
   "outputs": [
    {
     "name": "stdout",
     "output_type": "stream",
     "text": [
      "Accuracy of the Linear regression model : 0.7872921324073945\n"
     ]
    }
   ],
   "source": [
    "# Create a first model : Linear regression model\n",
    "\n",
    "from sklearn.model_selection import train_test_split\n",
    "\n",
    "X_train,X_test,y_train,y_test = train_test_split(X,y,test_size=0.2)\n",
    "\n",
    "from sklearn.linear_model import LinearRegression\n",
    "\n",
    "model = LinearRegression()\n",
    "\n",
    "model.fit(X_train,y_train)\n",
    "\n",
    "print(f\"Accuracy of the Linear regression model : {model.score(X_test,y_test)}\")"
   ]
  },
  {
   "cell_type": "code",
   "execution_count": 5,
   "id": "60d06535",
   "metadata": {},
   "outputs": [],
   "source": [
    "#Check the model error values\n",
    "\n",
    "from sklearn.metrics import r2_score,mean_squared_error\n",
    "\n",
    "#To try with prediction values : (To also do with test values)\n",
    "\n",
    "#error_train_mse = mean_squared_error(y_train,pred)\n",
    "#error_train_r2 = r2_score(y_train,pred)"
   ]
  },
  {
   "cell_type": "code",
   "execution_count": 6,
   "id": "4d6b1736",
   "metadata": {},
   "outputs": [
    {
     "name": "stdout",
     "output_type": "stream",
     "text": [
      "Accuracy of the random forrest model : 0.8874300730630397\n"
     ]
    }
   ],
   "source": [
    "# Better model : Random Forest model\n",
    "from sklearn.ensemble import RandomForestRegressor\n",
    "\n",
    "model = RandomForestRegressor()\n",
    "\n",
    "model.fit(X_train,y_train)\n",
    "\n",
    "print(f\"Accuracy of the random forrest model : {model.score(X_test,y_test)}\")"
   ]
  },
  {
   "cell_type": "code",
   "execution_count": 9,
   "id": "fd2aeffa",
   "metadata": {},
   "outputs": [
    {
     "data": {
      "text/plain": [
       "[]"
      ]
     },
     "execution_count": 9,
     "metadata": {},
     "output_type": "execute_result"
    },
    {
     "data": {
      "image/png": "[encoded data removed]",
      "text/plain": [
       "<Figure size 640x480 with 1 Axes>"
      ]
     },
     "metadata": {},
     "output_type": "display_data"
    }
   ],
   "source": [
    "#Data vizualisation\n",
    "\n",
    "import matplotlib.pyplot as plt\n",
    "\n",
    "\n",
    "\n",
    "plt.scatter(x=y_train[:len(y_test)],y=y_test)\n",
    "\n",
    "plt.plot()\n",
    "\n"
   ]
  }
 ],
 "metadata": {
  "kernelspec": {
   "display_name": "Python 3",
   "language": "python",
   "name": "python3"
  },
  "language_info": {
   "codemirror_mode": {
    "name": "ipython",
    "version": 3
   },
   "file_extension": ".py",
   "mimetype": "text/x-python",
   "name": "python",
   "nbconvert_exporter": "python",
   "pygments_lexer": "ipython3",
   "version": "3.11.5"
  }
 },
 "nbformat": 4,
 "nbformat_minor": 5
}
